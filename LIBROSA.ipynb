{
 "cells": [
  {
   "cell_type": "markdown",
   "id": "983e61db",
   "metadata": {},
   "source": [
    "# 111261012 張晉瑜"
   ]
  },
  {
   "cell_type": "code",
   "execution_count": 42,
   "id": "9f9debcf",
   "metadata": {},
   "outputs": [
    {
     "name": "stdout",
     "output_type": "stream",
     "text": [
      "60\n"
     ]
    }
   ],
   "source": [
    "import librosa\n",
    "import numpy as np\n",
    "import torch\n",
    "from torch.utils.data import Dataset, DataLoader  # Make sure this import is present\n",
    "\n",
    "\n",
    "file_prefix = \"C:/Users/Chang Yu/Desktop/school/大學/專題/data/20240829/20240829_degree_\"\n",
    "\n",
    "degree_trans_label = {\n",
    "    \"000_\":0,\"045_\":1,\"090_\":2,\"135_\":3,\"180_\":4,\n",
    "}\n",
    "\n",
    "degree = [\"000_\",\"045_\",\"090_\",\"135_\",\"180_\"]\n",
    "hight = [\"low_\",\"mid_\",\"high_\"]\n",
    "freq = [\"500\",\"1000\",\"1500\",\"2000\"]\n",
    "\n",
    "file_list = []\n",
    "label_list = []\n",
    "\n",
    "# init the file list and label list \n",
    "for d in degree:\n",
    "    for h in hight:\n",
    "        for f in freq:\n",
    "            file_list.append(file_prefix + d + h + f + \"Hz.wav\")\n",
    "            label_list.append(degree_trans_label[d])\n",
    "\n",
    "\n",
    "class trans_dataset(Dataset):\n",
    "    def __init__(self, file_paths, labels):\n",
    "        self.file_paths = file_paths\n",
    "        self.labels = labels\n",
    "    def __len__(self):\n",
    "        return len(self.file_paths)\n",
    "\n",
    "    def __getitem__(self, idx):\n",
    "        file_path = self.file_paths[idx]\n",
    "        label = self.labels[idx]\n",
    "        \n",
    "        y, sr = librosa.load(file_path)\n",
    "\n",
    "        # cut the time-frame s.t size of mel_spectro are the same (225 and 675 are the values of exp)\n",
    "        mel_spect = librosa.feature.melspectrogram(y=y, sr=sr, n_mels=128)[225,675]\n",
    "        mel_spect = librosa.power_to_db(mel_spect, ref=np.max)\n",
    "\n",
    "        mel_spect = torch.tensor(mel_spect, dtype=torch.float32)\n",
    "        label = torch.tensor(label, dtype=torch.long)\n",
    "        \n",
    "        return mel_spect, label\n",
    "\n",
    "dataset = trans_dataset(file_list, label_list)\n",
    "\n",
    "# train_loader = DataLoader(dataset, batch_size=16, shuffle=True)\n",
    "# test_loader = DataLoader(dataset, batch_size=16, shuffle=False)\n",
    "\n",
    "print(len(file_list))\n",
    "def process_mel_spectrogram(mel_spectrogram, target_frames):\n",
    "    mel_spectrogram = mel_spectrogram[:, target_frames[0]:target_frames[1]]\n",
    "    return mel_spectrogram\n"
   ]
  }
 ],
 "metadata": {
  "kernelspec": {
   "display_name": "Python 3 (ipykernel)",
   "language": "python",
   "name": "python3"
  },
  "language_info": {
   "codemirror_mode": {
    "name": "ipython",
    "version": 3
   },
   "file_extension": ".py",
   "mimetype": "text/x-python",
   "name": "python",
   "nbconvert_exporter": "python",
   "pygments_lexer": "ipython3",
   "version": "3.12.4"
  }
 },
 "nbformat": 4,
 "nbformat_minor": 5
}
